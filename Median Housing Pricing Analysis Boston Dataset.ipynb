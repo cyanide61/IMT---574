{
 "cells": [
  {
   "cell_type": "markdown",
   "metadata": {},
   "source": [
    "# Problem Set 3, due February 10 at 11:59am (i.e., noon).\n",
    "\n",
    "###Before You Start\n",
    "\n",
    "Make sure the following libraries load correctly (hit Ctrl-Enter). Note that while you are loading several powerful libraries, including machine learning libraries, the goal of this problem set is to implement several algorithms from scratch. In particular, you should *not* be using any built-in libraries for nearest neighbors, distance metrics, or cross-validation -- your mission is to write those algorithms in Python! Parts 1 and 2 will be relatively easy; Part 3 will take more time.\n",
    "\n",
    "*Also note:* For this assignment we are requiring you to use base **matplotlib** - no more Seaborn or other packages. This will help you become familiar with techniques for maintaining fine-grained control over your data visualizations. It will also help our graders, who spent countless hours trying to make various versions import for grading."
   ]
  },
  {
   "cell_type": "code",
   "execution_count": 44,
   "metadata": {
    "collapsed": true
   },
   "outputs": [],
   "source": [
    "import IPython\n",
    "import numpy as numpy\n",
    "import scipy as sp\n",
    "import pandas as pd\n",
    "import matplotlib\n",
    "import sklearn\n",
    "from matplotlib.lines import Line2D\n",
    "from matplotlib.text import Text"
   ]
  },
  {
   "cell_type": "markdown",
   "metadata": {},
   "source": [
    "---\n",
    "\n",
    "## Introduction to the assignment\n",
    "\n",
    "For this assignment, you will be using the [Boston Housing Prices Data Set](http://archive.ics.uci.edu/ml/datasets/Housing).  Please read about the dataset carefully before continuing.  Use the following commands to load the dataset:\n"
   ]
  },
  {
   "cell_type": "code",
   "execution_count": 45,
   "metadata": {
    "collapsed": true
   },
   "outputs": [],
   "source": [
    "from sklearn.datasets import load_boston\n",
    "bdata = load_boston()"
   ]
  },
  {
   "cell_type": "markdown",
   "metadata": {},
   "source": [
    "The following commands will provide some basic information about the shape of the data:"
   ]
  },
  {
   "cell_type": "code",
   "execution_count": 60,
   "metadata": {
    "collapsed": false
   },
   "outputs": [
    {
     "name": "stdout",
     "output_type": "stream",
     "text": [
      "dict_keys(['data', 'target', 'feature_names', 'DESCR'])\n",
      "['CRIM' 'ZN' 'INDUS' 'CHAS' 'NOX' 'RM' 'AGE' 'DIS' 'RAD' 'TAX' 'PTRATIO'\n",
      " 'B' 'LSTAT']\n",
      "(506, 13)\n",
      "(506,)\n",
      "Boston House Prices dataset\n",
      "===========================\n",
      "\n",
      "Notes\n",
      "------\n",
      "Data Set Characteristics:  \n",
      "\n",
      "    :Number of Instances: 506 \n",
      "\n",
      "    :Number of Attributes: 13 numeric/categorical predictive\n",
      "    \n",
      "    :Median Value (attribute 14) is usually the target\n",
      "\n",
      "    :Attribute Information (in order):\n",
      "        - CRIM     per capita crime rate by town\n",
      "        - ZN       proportion of residential land zoned for lots over 25,000 sq.ft.\n",
      "        - INDUS    proportion of non-retail business acres per town\n",
      "        - CHAS     Charles River dummy variable (= 1 if tract bounds river; 0 otherwise)\n",
      "        - NOX      nitric oxides concentration (parts per 10 million)\n",
      "        - RM       average number of rooms per dwelling\n",
      "        - AGE      proportion of owner-occupied units built prior to 1940\n",
      "        - DIS      weighted distances to five Boston employment centres\n",
      "        - RAD      index of accessibility to radial highways\n",
      "        - TAX      full-value property-tax rate per $10,000\n",
      "        - PTRATIO  pupil-teacher ratio by town\n",
      "        - B        1000(Bk - 0.63)^2 where Bk is the proportion of blacks by town\n",
      "        - LSTAT    % lower status of the population\n",
      "        - MEDV     Median value of owner-occupied homes in $1000's\n",
      "\n",
      "    :Missing Attribute Values: None\n",
      "\n",
      "    :Creator: Harrison, D. and Rubinfeld, D.L.\n",
      "\n",
      "This is a copy of UCI ML housing dataset.\n",
      "http://archive.ics.uci.edu/ml/datasets/Housing\n",
      "\n",
      "\n",
      "This dataset was taken from the StatLib library which is maintained at Carnegie Mellon University.\n",
      "\n",
      "The Boston house-price data of Harrison, D. and Rubinfeld, D.L. 'Hedonic\n",
      "prices and the demand for clean air', J. Environ. Economics & Management,\n",
      "vol.5, 81-102, 1978.   Used in Belsley, Kuh & Welsch, 'Regression diagnostics\n",
      "...', Wiley, 1980.   N.B. Various transformations are used in the table on\n",
      "pages 244-261 of the latter.\n",
      "\n",
      "The Boston house-price data has been used in many machine learning papers that address regression\n",
      "problems.   \n",
      "     \n",
      "**References**\n",
      "\n",
      "   - Belsley, Kuh & Welsch, 'Regression diagnostics: Identifying Influential Data and Sources of Collinearity', Wiley, 1980. 244-261.\n",
      "   - Quinlan,R. (1993). Combining Instance-Based and Model-Based Learning. In Proceedings on the Tenth International Conference of Machine Learning, 236-243, University of Massachusetts, Amherst. Morgan Kaufmann.\n",
      "   - many more! (see http://archive.ics.uci.edu/ml/datasets/Housing)\n",
      "\n"
     ]
    }
   ],
   "source": [
    "print(bdata.keys())\n",
    "print(bdata.feature_names)\n",
    "print(bdata.data.shape)\n",
    "print(bdata.target.shape)\n",
    "# uncomment the following if you want to see a lengthy description of the dataset\n",
    "print(bdata.DESCR)"
   ]
  },
  {
   "cell_type": "markdown",
   "metadata": {},
   "source": [
    "---\n",
    "\n",
    "##Part 1: Descriptive analysis\n",
    "\n",
    "Before beginning the \"real\" work, dig into the data a bit do see what you're dealing with.  If you're new to analyzing data in Python, please make sure to read the relevant readings linked to on Canvas before beginning (for instance, [this one](https://github.com/jrjohansson/scientific-python-lectures)).\n",
    "\n",
    "###1.1: Histogram of housing prices\n",
    "\n",
    "Below you will find some very basic code to make a very basic histogram of median housing prices (the \"target\" variable) for your dataset.  Your first task is to make this graph look pretty by doing the following:\n",
    "\n",
    "1. Add appropriate labels to the x and y axes, make sure to include units\n",
    "2. Change the bin width on the histogram to be $1000\n",
    "3. Remove the axes on the top and right side of the plot window\n",
    "4. Change the color of the bars to be green, and remove the black borders from the bars\n"
   ]
  },
  {
   "cell_type": "code",
   "execution_count": 87,
   "metadata": {
    "collapsed": false
   },
   "outputs": [
    {
     "data": {
      "text/plain": [
       "<matplotlib.text.Text at 0x230cae95048>"
      ]
     },
     "execution_count": 87,
     "metadata": {},
     "output_type": "execute_result"
    },
    {
     "data": {
      "image/png": "[encoded data removed]",
      "text/plain": [
       "<matplotlib.figure.Figure at 0x230c8ab79e8>"
      ]
     },
     "metadata": {},
     "output_type": "display_data"
    }
   ],
   "source": [
    "# prepare IPython to work with matplotlib and import the library to something convenient\n",
    "%matplotlib inline  \n",
    "import matplotlib.pyplot as plt  \n",
    "\n",
    "# Use subplot feature to remove the top and right axes\n",
    "axes = plt.subplot() \n",
    "axes.spines[\"top\"].set_visible(False)  \n",
    "axes.spines[\"right\"].set_visible(False)  \n",
    "\n",
    "#Set bin width to 1\n",
    "binwidth=1\n",
    "#Plot the histgram with green color\n",
    "plt.hist(bdata.target, color='g', bins=np.arange(min(bdata.target), max(bdata.target) + binwidth, binwidth))\n",
    "#Label the axis\n",
    "plt.xlabel('Median value of owner-occupied homes in $1000')\n",
    "plt.ylabel('Number of houses')\n",
    "#Label the title\n",
    "plt.title('Boston Housing prices')\n",
    "\n",
    "\n",
    "\n"
   ]
  },
  {
   "cell_type": "code",
   "execution_count": 88,
   "metadata": {
    "collapsed": false
   },
   "outputs": [
    {
     "data": {
      "text/html": [
       "<div>\n",
       "<table border=\"1\" class=\"dataframe\">\n",
       "  <thead>\n",
       "    <tr style=\"text-align: right;\">\n",
       "      <th></th>\n",
       "      <th>CRIM</th>\n",
       "      <th>ZN</th>\n",
       "      <th>INDUS</th>\n",
       "      <th>CHAS</th>\n",
       "      <th>NOX</th>\n",
       "      <th>RM</th>\n",
       "      <th>AGE</th>\n",
       "      <th>DIS</th>\n",
       "      <th>RAD</th>\n",
       "      <th>TAX</th>\n",
       "      <th>PTRATIO</th>\n",
       "      <th>B</th>\n",
       "      <th>LSTAT</th>\n",
       "      <th>PRICE</th>\n",
       "    </tr>\n",
       "  </thead>\n",
       "  <tbody>\n",
       "    <tr>\n",
       "      <th>0</th>\n",
       "      <td>0.00632</td>\n",
       "      <td>18.0</td>\n",
       "      <td>2.31</td>\n",
       "      <td>0.0</td>\n",
       "      <td>0.538</td>\n",
       "      <td>6.575</td>\n",
       "      <td>65.2</td>\n",
       "      <td>4.0900</td>\n",
       "      <td>1.0</td>\n",
       "      <td>296.0</td>\n",
       "      <td>15.3</td>\n",
       "      <td>396.90</td>\n",
       "      <td>4.98</td>\n",
       "      <td>24.0</td>\n",
       "    </tr>\n",
       "    <tr>\n",
       "      <th>1</th>\n",
       "      <td>0.02731</td>\n",
       "      <td>0.0</td>\n",
       "      <td>7.07</td>\n",
       "      <td>0.0</td>\n",
       "      <td>0.469</td>\n",
       "      <td>6.421</td>\n",
       "      <td>78.9</td>\n",
       "      <td>4.9671</td>\n",
       "      <td>2.0</td>\n",
       "      <td>242.0</td>\n",
       "      <td>17.8</td>\n",
       "      <td>396.90</td>\n",
       "      <td>9.14</td>\n",
       "      <td>21.6</td>\n",
       "    </tr>\n",
       "    <tr>\n",
       "      <th>2</th>\n",
       "      <td>0.02729</td>\n",
       "      <td>0.0</td>\n",
       "      <td>7.07</td>\n",
       "      <td>0.0</td>\n",
       "      <td>0.469</td>\n",
       "      <td>7.185</td>\n",
       "      <td>61.1</td>\n",
       "      <td>4.9671</td>\n",
       "      <td>2.0</td>\n",
       "      <td>242.0</td>\n",
       "      <td>17.8</td>\n",
       "      <td>392.83</td>\n",
       "      <td>4.03</td>\n",
       "      <td>34.7</td>\n",
       "    </tr>\n",
       "    <tr>\n",
       "      <th>3</th>\n",
       "      <td>0.03237</td>\n",
       "      <td>0.0</td>\n",
       "      <td>2.18</td>\n",
       "      <td>0.0</td>\n",
       "      <td>0.458</td>\n",
       "      <td>6.998</td>\n",
       "      <td>45.8</td>\n",
       "      <td>6.0622</td>\n",
       "      <td>3.0</td>\n",
       "      <td>222.0</td>\n",
       "      <td>18.7</td>\n",
       "      <td>394.63</td>\n",
       "      <td>2.94</td>\n",
       "      <td>33.4</td>\n",
       "    </tr>\n",
       "  </tbody>\n",
       "</table>\n",
       "</div>"
      ],
      "text/plain": [
       "      CRIM    ZN  INDUS  CHAS    NOX     RM   AGE     DIS  RAD    TAX  \\\n",
       "0  0.00632  18.0   2.31   0.0  0.538  6.575  65.2  4.0900  1.0  296.0   \n",
       "1  0.02731   0.0   7.07   0.0  0.469  6.421  78.9  4.9671  2.0  242.0   \n",
       "2  0.02729   0.0   7.07   0.0  0.469  7.185  61.1  4.9671  2.0  242.0   \n",
       "3  0.03237   0.0   2.18   0.0  0.458  6.998  45.8  6.0622  3.0  222.0   \n",
       "\n",
       "   PTRATIO       B  LSTAT  PRICE  \n",
       "0     15.3  396.90   4.98   24.0  \n",
       "1     17.8  396.90   9.14   21.6  \n",
       "2     17.8  392.83   4.03   34.7  \n",
       "3     18.7  394.63   2.94   33.4  "
      ]
     },
     "execution_count": 88,
     "metadata": {},
     "output_type": "execute_result"
    }
   ],
   "source": [
    "#Convert data into a dataframe\n",
    "boston_df =  pd.DataFrame(bdata.data)\n",
    "#Add column names\n",
    "boston_df.columns = bdata.feature_names\n",
    "#Add the median price as a column in the dataframe\n",
    "boston_df['PRICE'] = bdata.target\n",
    "#Observe the top 4 rows and all columns\n",
    "boston_df.head(4)"
   ]
  },
  {
   "cell_type": "markdown",
   "metadata": {},
   "source": [
    "###1.2: Scatter plot of housing prices and crime\n",
    "\n",
    "Use matplotlib to create a scatter plot that shows the relationship between the median value of the home (y-axis) and the per-capita crime rate (x-axis).  Properly label your axes, and make sure that your graphic looks polished and professional.\n"
   ]
  },
  {
   "cell_type": "code",
   "execution_count": 86,
   "metadata": {
    "collapsed": false
   },
   "outputs": [
    {
     "data": {
      "text/plain": [
       "<matplotlib.text.Text at 0x230cacc8e48>"
      ]
     },
     "execution_count": 86,
     "metadata": {},
     "output_type": "execute_result"
    },
    {
     "data": {
      "image/png": "[encoded data removed]",
      "text/plain": [
       "<matplotlib.figure.Figure at 0x230c9cba4a8>"
      ]
     },
     "metadata": {},
     "output_type": "display_data"
    }
   ],
   "source": [
    "#Set size of plot\n",
    "plt.figure(1,figsize=(12,5))\n",
    "#Use sub plot features to remove top and right axis\n",
    "axes = plt.subplot() \n",
    "axes.spines[\"top\"].set_visible(False)  \n",
    "axes.spines[\"right\"].set_visible(False)  \n",
    "#Plot a scatter plot\n",
    "plt.scatter(boston_df.CRIM, boston_df.PRICE)\n",
    "#Set the axis labels\n",
    "plt.xlabel('Per-capita crime rate')\n",
    "plt.ylabel('Median value of homes')\n",
    "#Set the plot title\n",
    "plt.title('Boston - Crimes vs Housing prices')\n"
   ]
  },
  {
   "cell_type": "markdown",
   "metadata": {},
   "source": [
    "###1.3 Create your own (creative and effective) visualization\n",
    "\n",
    "Use another type of graph or chart to illustrate an interesting pattern in the data.  Be creative in your visualization, and make sure to produce a \"publication-quality\" graph.  Points will be given for useful and creative graphs; points will be deducted for confusing issues like unlabeled axes.  If you're new to data visualization, [this guide](http://pubs.aeaweb.org/doi/pdfplus/10.1257/jep.28.1.209) is a good place to start."
   ]
  },
  {
   "cell_type": "markdown",
   "metadata": {},
   "source": [
    "I will use the pupil teacher ratio to find the relation between it and the median household incomes."
   ]
  },
  {
   "cell_type": "code",
   "execution_count": 110,
   "metadata": {
    "collapsed": false
   },
   "outputs": [
    {
     "data": {
      "text/plain": [
       "<matplotlib.text.Text at 0x230c8b6b550>"
      ]
     },
     "execution_count": 110,
     "metadata": {},
     "output_type": "execute_result"
    },
    {
     "data": {
      "image/png": "[encoded data removed]",
      "text/plain": [
       "<matplotlib.figure.Figure at 0x230c90abba8>"
      ]
     },
     "metadata": {},
     "output_type": "display_data"
    }
   ],
   "source": [
    "##Set size of plot\n",
    "plt.figure(1,figsize=(12,5))\n",
    "#Use sub plot features to remove top and right axis\n",
    "axes = plt.subplot() \n",
    "axes.spines[\"top\"].set_visible(False)  \n",
    "axes.spines[\"right\"].set_visible(False)  \n",
    "#Plot a scatter plot\n",
    "#Plot a scatter plot\n",
    "plt.scatter(boston_df.PTRATIO,boston_df.PRICE,color='g', marker='s', alpha=.2,s=100)\n",
    "#Set the axis labels\n",
    "plt.xlabel('Pupil teacher ratio')\n",
    "plt.ylabel('Median value of homes')\n",
    "#Set the plot title\n",
    "plt.title('Boston - Pupil teacher ratio vs Housing prices')\n",
    "\n"
   ]
  },
  {
   "cell_type": "markdown",
   "metadata": {},
   "source": [
    "The above graphs shows the pupil teacher ratio vs the median value of household incomes. The alpha value or the lightness and darkness of the plot determines the number of obervations in the same range. An overlap of plots also causes them to be darker."
   ]
  },
  {
   "cell_type": "markdown",
   "metadata": {},
   "source": [
    "---\n",
    "\n",
    "##Part 2: Experimental Setup\n",
    "\n",
    "The goal of the next few sections is to design an experiment to predict the median home value for an instance in the data.\n",
    "\n",
    "###2.1 Begin by writing a function to compute the Root Mean Squared Error for a list of numbers\n",
    "\n",
    "You can find the sqrt function in the Numpy package. Furthermore the details of RMSE can be found on [Wikipedia](http://en.wikipedia.org/wiki/Root-mean-square_deviation)\n",
    "\n"
   ]
  },
  {
   "cell_type": "code",
   "execution_count": 116,
   "metadata": {
    "collapsed": false
   },
   "outputs": [
    {
     "data": {
      "text/plain": [
       "2.0816659994661326"
      ]
     },
     "execution_count": 116,
     "metadata": {},
     "output_type": "execute_result"
    }
   ],
   "source": [
    "\"\"\"\n",
    "Function\n",
    "--------\n",
    "compute_rmse\n",
    "\n",
    "Given two arrays, one of actual values and one of predicted values,\n",
    "compute the Roote Mean Squared Error\n",
    "\n",
    "Parameters\n",
    "----------\n",
    "predictions : array\n",
    "    Array of numerical values corresponding to predictions for each of the N observations\n",
    "\n",
    "yvalues : array\n",
    "    Array of numerical values corresponding to the actual values for each of the N observations\n",
    "\n",
    "Returns\n",
    "-------\n",
    "rmse : int\n",
    "    Root Mean Squared Error of the prediction\n",
    "\n",
    "Example\n",
    "-------\n",
    ">>> print compute_rmse((2,2,3),(0,2,6)\n",
    "2.16\n",
    "\"\"\"\n",
    "def compute_rmse(predictions, yvalues):\n",
    "    se= 0\n",
    "    for x in range(0,len(predictions)):\n",
    "      se += ((predictions[x] - yvalues[x])**2)\n",
    "    mse=float(se)/len(predictions)\n",
    "    rmse=np.sqrt(mse)\n",
    "    return rmse\n",
    "\n",
    "compute_rmse((2,2,3),(0,2,6))"
   ]
  },
  {
   "cell_type": "markdown",
   "metadata": {},
   "source": [
    "###2.2 Divide your data into training and testing datasets\n",
    "\n",
    "Randomly select 66% of the data and put this in a training dataset (call this \"bdata_train\"), and place the remaining 34% in a testing dataset (call this \"bdata_test\")\n"
   ]
  },
  {
   "cell_type": "code",
   "execution_count": 121,
   "metadata": {
    "collapsed": false
   },
   "outputs": [],
   "source": [
    "# leave the following line untouched, it will help ensure that your \"random\" split is the same \"random\" split used by the rest of the class\n",
    "np.random.seed(seed=13579)\n",
    "\n",
    "# Use numpy to append \n",
    "bdata_all = np.hstack((bdata.data, np.atleast_2d(bdata.target).T))\n",
    "bdata_all= np.hstack((bdata_all, np.atleast_2d(np.arange(0,506,1)).T))\n",
    "\n",
    "#Split into train and test\n",
    "bdata_train = bdata_all[0:int(np.ceil(len(bdata_all)*0.66)),:]\n",
    "bdata_test = bdata_all[int(np.ceil(len(bdata_all)*0.66)):,:]\n"
   ]
  },
  {
   "cell_type": "markdown",
   "metadata": {},
   "source": [
    "###2.3 Use a very bad baseline for prediction, and compute RMSE\n",
    "\n",
    "Create a model that predicts, for every observation x_i, that the median home value is the average (mean) of the median values for all instances in the training set.  Compute the RMSE on the training set.  Now compute the RMSE on the test data set (but use the model you trained on the training set!).  How does RMSE compare for training vs. testing datasets? Is this what you expected, and why?"
   ]
  },
  {
   "cell_type": "code",
   "execution_count": 123,
   "metadata": {
    "collapsed": false
   },
   "outputs": [
    {
     "name": "stdout",
     "output_type": "stream",
     "text": [
      "Train RMSE: 8.57279016332\n",
      "Test RMSE: 11.2627239924\n"
     ]
    }
   ],
   "source": [
    "def mean_model(training_data, testing_data):\n",
    "    mean = training_data[:,13:14][:,0].mean()\n",
    "    for i in range(0,len(testing_data[0])):\n",
    "        testing_data[1,i] = mean\n",
    "    return testing_data\n",
    "\n",
    "# Store values in an array for acutal and predicted median house values for training dataset\n",
    "train_predict = np.array([bdata_train[:,13:14][:,0],np.zeros(len(bdata_train))])\n",
    "\n",
    "# USe mean model function and rmse function\n",
    "train_predict = mean_model(bdata_train, train_predict)\n",
    "train_rmse = compute_rmse(train_predict[0],train_predict[1])\n",
    "print(\"Train RMSE:\",train_rmse)\n",
    "\n",
    "# Store values in an array for acutal and predicted median house values for test dataset\n",
    "test_predict = np.array([bdata_test[:,13:14][:,0],np.zeros(len(bdata_test))])\n",
    "\n",
    "# Calling our mean model function and passing the results to rmse function\n",
    "test_predict = mean_model(bdata_train, test_predict)\n",
    "test_rmse = compute_rmse(test_predict[0],test_predict[1])\n",
    "print(\"Test RMSE:\",test_rmse)\n"
   ]
  },
  {
   "cell_type": "markdown",
   "metadata": {},
   "source": [
    "The train RMSE is less than the test RMSE. THis is since we took the mean of all the median house values in the training dataset. "
   ]
  },
  {
   "cell_type": "markdown",
   "metadata": {},
   "source": [
    "---\n",
    "\n",
    "##Part 3: Nearest Neighbors\n"
   ]
  },
  {
   "cell_type": "markdown",
   "metadata": {},
   "source": [
    "###3.1 Nearest Neighbors: Distance function\n",
    "Let's try and build a machine learning algorithm to beat the \"Average Value\" baseline that you computed above.  Soon you will implement the Nearest Neighbor algorithm, but first you need to create a distance metric to measure the distance (and similarity) between two instances.  Write a generic function to compute the L-Norm distance (called the [*p*-norm](http://en.wikipedia.org/wiki/Norm_(mathematics) distance on Wikipedia). Verify that your function works by computing the Euclidean distance between the points (3,4) and (6,8)."
   ]
  },
  {
   "cell_type": "code",
   "execution_count": 137,
   "metadata": {
    "collapsed": false
   },
   "outputs": [
    {
     "name": "stdout",
     "output_type": "stream",
     "text": [
      "D1:  5.0\n"
     ]
    }
   ],
   "source": [
    "\"\"\"\n",
    "Function\n",
    "--------\n",
    "distance\n",
    "\n",
    "Given two instances and a value for L, return the L-Norm distance between them\n",
    "\n",
    "Parameters\n",
    "----------\n",
    "x1, x2 : array\n",
    "    Array of numerical values corresponding to predictions for each of the N observations\n",
    "\n",
    "L: int\n",
    "    Value of L to use in computing distances\n",
    "\n",
    "Returns\n",
    "-------\n",
    "dist : int\n",
    "    The L-norm distance between instances\n",
    "\n",
    "Example\n",
    "-------\n",
    ">>> print distance((3,4),(6,8),2)\n",
    "7\n",
    "\n",
    "\"\"\"\n",
    "def distance(x, y, L):\n",
    "    dist = abs((x-y))**L\n",
    "    dist = (dist.sum(axis=1))**(1/float(L))\n",
    "    return dist\n",
    "\n",
    "d1 = lnorm_distance((3,4),(6,8),2)\n",
    "\n",
    "print(\"D1: \", d1)"
   ]
  },
  {
   "cell_type": "markdown",
   "metadata": {},
   "source": [
    "###3.2 Basic Nearest Neighbor algorithm\n",
    "\n",
    "Now things get fun.  Your task is to implement a basic nearest neighbor algorithm from scratch.  Your simple model will use two input features (CRIM and RM) and a single output (MEDV).  In other words, you are modelling the relationship between median home value and crime rates and house size.\n",
    "\n",
    "Use your training data (bdata_train) to \"fit\" your model, although as you know, with Nearest Neighbors there is no real training, you just need to keep your training data in memory.  Write a function that predicts, for each instance in the testing data (bdata_test), the median home value using the nearest neighbor algorithm we discussed in class.  Since this is a small dataset, you can simply compare your test instance to every instance in the training set, and return the MEDV value of the closest training instance.  Have your function take L as an input, where L is passed to the distance function.\n",
    "\n",
    "Compute the RMSE for the Nearest Neighbor predictions on the test set, using the Euclidean distance.  Report an estimate of the total time taken by your code to predict the nearest neighbors for all the values in the test data set."
   ]
  },
  {
   "cell_type": "code",
   "execution_count": 162,
   "metadata": {
    "collapsed": false
   },
   "outputs": [
    {
     "name": "stdout",
     "output_type": "stream",
     "text": [
      "Time taken: 0.01 seconds\n",
      "RMSE = 8.17911051626 \n",
      "\n"
     ]
    },
    {
     "data": {
      "text/plain": [
       "8.179110516260879"
      ]
     },
     "execution_count": 162,
     "metadata": {},
     "output_type": "execute_result"
    }
   ],
   "source": [
    "\"\"\"\n",
    "# write your function specification here!\n",
    "\n",
    "\n",
    "\"\"\"\n",
    "import time\n",
    "def nneighbor(train_data, test_data, predictors, L):\n",
    "    start_time = time.time()\n",
    "    \n",
    "    # Creating array with only the median values for train and test\n",
    "    medv_train = train_data[:,13:14]\n",
    "    medv_test = test_data[:,13:14]\n",
    "    \n",
    "    #Creating array to store the actual and predicted median values and the predictores\n",
    "    train_arr = np.hstack((medv_train, np.atleast_2d(np.arange(0,len(medv_train),1)).T))\n",
    "    test_arr = np.hstack((medv_test, np.atleast_2d(np.arange(0,len(medv_test),1)).T))\n",
    "    \n",
    "    # Iterating the remaining columns based on number of predictors\n",
    "    for predictor in predictors:\n",
    "        train_arr = np.hstack((train_arr, np.atleast_2d(train_data[:,np.where(bdata.feature_names == predictor)[0][0]]).T))\n",
    "        test_arr = np.hstack((test_arr, np.atleast_2d(test_data[:,np.where(bdata.feature_names == predictor)[0][0]]).T))\n",
    "    \n",
    "    # Creating a new array which will hold all the training values for training data and one value repeated for the test data\n",
    "    temp_train = np.empty([len(train_data), len(predictors)])\n",
    "    temp_train[:,:] = train_arr[:,2:]    \n",
    "    sorted_train = train_arr\n",
    "    temp_test = np.empty([len(train_data), len(predictors)])\n",
    "    \n",
    "    #o compute the corresponding distance for test data and store the distance in array. Consider smallest distance\n",
    "    for i in range(0,len(test_arr)):  \n",
    "        temp_test[:,:] = test_arr[i,2:]\n",
    "        dist = distance(temp_test, temp_train, L)\n",
    "        train_arr[:,1] = dist \n",
    "        sorted_train = train_arr\n",
    "        sorted_train = train_arr[train_arr[:,1].argsort()]          \n",
    "        test_arr[i,1] = sorted_train[0,0]\n",
    "        \n",
    "    #Computing the RMSE\n",
    "    rmse = compute_rmse(test_arr[:,0],test_arr[:,1])\n",
    "    print(\"Time taken: \" + str(round(time.time() - start_time,2)) + \" seconds\")\n",
    "    print('RMSE =',rmse,'\\n')\n",
    "    \n",
    "    return rmse\n",
    "\n",
    "\n",
    "# Prepare dataset to pass to function\n",
    "train_dataset = np.copy(bdata_train[:])\n",
    "test_dataset = np.copy(bdata_test[:])\n",
    "predictors = ['CRIM','RM']\n",
    "L = 2\n",
    "\n",
    "# Running function\n",
    "nneighbor(train_dataset, test_dataset, predictors, L)"
   ]
  },
  {
   "cell_type": "markdown",
   "metadata": {},
   "source": [
    "###3.3 Results and Normalization\n",
    "\n",
    "If you were being astute, you would have noticed that we never normalized our features -- a big no-no with Nearest Neighbor algorithms.  Write a generic normalization function that takes as input an array of values for a given feature, and returns the normalized array (subtract the mean and divide by the standard deviation).\n",
    "\n",
    "Re-run the Nearest Neighbor algorithm on the normalized dataset (still just using CRIM and RM as input), and compare the RMSE from this method with your previous RMSE evaluations.\n",
    "\n",
    "*NOTE*: To normalize properly, best practice is to compute the mean and standard deviation on the training set, and use these values to normalize the testing dataset. However, for this problem set, it is okay if you separately normalize each dataset using the respective mean and standard deviation."
   ]
  },
  {
   "cell_type": "code",
   "execution_count": 163,
   "metadata": {
    "collapsed": false
   },
   "outputs": [
    {
     "name": "stdout",
     "output_type": "stream",
     "text": [
      "Time taken: 0.01 seconds\n",
      "RMSE = 11.9756026211 \n",
      "\n"
     ]
    }
   ],
   "source": [
    "\"\"\"\n",
    "# write your function specification here!\n",
    "\"\"\"\n",
    "\n",
    "#Helper function to calculate normalized value\n",
    "def norm(raw_data):\n",
    "    mean = np.mean(raw_data)\n",
    "    sd = np.std(raw_data)\n",
    "    for i in range(0,len(raw_data)):\n",
    "        raw_data[i] = (raw_data[i] - mean)/sd\n",
    "    return raw_data\n",
    "\n",
    "def normalize(predictors, is_cv):\n",
    "     # If data to be passed to cross validagtion function return one dataset\n",
    "    if is_cv:\n",
    "        # Copying main data array to a new data array\n",
    "        n_data = np.copy(bdata_all[:])\n",
    "        \n",
    "        # Iterating the predictor columns and getting them normalized\n",
    "        for p in predictors:\n",
    "            n_data[:,np.where(bdata.feature_names == p)[0][0]] = norm(n_data[:, np.where(bdata.feature_names == p)[0][0]])\n",
    "        return (n_data,None)\n",
    "    \n",
    "    # else return test and training dataset if we dont have to pass value to cross validation function\n",
    "    else :\n",
    "        # Copying test and train array to a new array\n",
    "        n_train = np.copy(bdata_train[:])\n",
    "        n_test = np.copy(bdata_test[:])\n",
    "        \n",
    "        # Iterating the predictor columns and getting them normalized\n",
    "        for p in predictors:\n",
    "            n_train[:,np.where(bdata.feature_names == p)[0][0]] = norm(n_train[:, np.where(bdata.feature_names == p)[0][0]])\n",
    "            n_test[:,np.where(bdata.feature_names == p)[0][0]] = norm(n_test[:, np.where(bdata.feature_names == p)[0][0]])\n",
    "        return (n_train, n_test)\n",
    "    return normalized_data\n",
    "\n",
    "# Set parameter values\n",
    "predictors = ['CRIM','RM']\n",
    "L = 2\n",
    "is_cv = False\n",
    "\n",
    "# Running the normalize function\n",
    "normalized = normalize(predictors,is_cv)\n",
    "nn_norm = nneighbor(normalized[0], normalized[1], predictors, L)"
   ]
  },
  {
   "cell_type": "markdown",
   "metadata": {},
   "source": [
    "WE notice that when the RMSE is normalized we get a bette prediction value compared to when the data is not normalized."
   ]
  },
  {
   "cell_type": "markdown",
   "metadata": {},
   "source": [
    "###3.4 Optimization\n",
    "\n",
    "A lot of the decisions we've made so far have been arbitrary.  Try to increase the performance of your nearest neighbor algorithm by adding features that you think might be relevant, and by using different values of L in the distance function.  Try a model that uses a different set of 2 features, then try at least one model that uses more than 4 features, then try using a different value of L.  If you're having fun, try a few different combinations of features and L!\n",
    "\n",
    "What combination of features and distance function provide the lowest RMSE?  Do your decisions affect the running time of the algorithm?"
   ]
  },
  {
   "cell_type": "code",
   "execution_count": 164,
   "metadata": {
    "collapsed": false
   },
   "outputs": [
    {
     "name": "stdout",
     "output_type": "stream",
     "text": [
      "Time taken: 0.01 seconds\n",
      "RMSE = 13.5442341633 \n",
      "\n"
     ]
    },
    {
     "data": {
      "text/plain": [
       "13.544234163280235"
      ]
     },
     "execution_count": 164,
     "metadata": {},
     "output_type": "execute_result"
    }
   ],
   "source": [
    "#Use different features of dataset\n",
    "predictors = ['NOX','RM']\n",
    "L = 2\n",
    "is_cv = False\n",
    "\n",
    "normalized2 = normalize(predictors,is_cv)\n",
    "nneighbor(normalized2[0], normalized2[1], predictors, L)"
   ]
  },
  {
   "cell_type": "markdown",
   "metadata": {},
   "source": [
    "We observe"
   ]
  },
  {
   "cell_type": "code",
   "execution_count": 165,
   "metadata": {
    "collapsed": false
   },
   "outputs": [
    {
     "name": "stdout",
     "output_type": "stream",
     "text": [
      "Time taken: 0.01 seconds\n",
      "RMSE = 10.2713617448 \n",
      "\n"
     ]
    },
    {
     "data": {
      "text/plain": [
       "10.27136174482348"
      ]
     },
     "execution_count": 165,
     "metadata": {},
     "output_type": "execute_result"
    }
   ],
   "source": [
    "#use more than 2 features.\n",
    "\n",
    "predictors = ['CRIM','RM','TAX','LSTAT']\n",
    "L = 2\n",
    "is_cv = False\n",
    "\n",
    "normalized3 = normalize(predictors,is_cv)\n",
    "nneighbor(normalized3[0], normalized3[1], predictors, L)"
   ]
  },
  {
   "cell_type": "markdown",
   "metadata": {},
   "source": [
    "### 3.5 Cross-Validation\n",
    "\n",
    "The more you tinkered with your features and distance function, the higher the risk that you overfit your training data.  To prevent this sort of overfitting, you need to use cross-validation (see K-fold [cross-validation](http://en.wikipedia.org/wiki/Cross-validation_(statistics)).  Here you must implement a simple k-fold cross-validation algorithm yourself.  The function you write here will be used several more times in this problem set, so do your best to write efficient code! (Note that the sklearn package has a built-in [K-fold](http://scikit-learn.org/stable/modules/cross_validation.html#cross-validation) iterator -- you should *not* be invoking that or any related algorithms in this section of the problem set.)\n",
    "\n",
    "Use 10-fold cross-validation and report the average RMSE for Nearest Neighbors using Euclidean distance with CRIM and RM input features, as well as the total running time for the full run of 10 folds.  In other words, randomly divide your dataset into 10 equally-sized samples, and for each of 10 iterations (the \"folds\"), use 9 samples as \"training data\" (even though there is no training in k-NN!), and the remaining 1 sample for testing.  Compute the RMSE of that particular test set, then move on to the next iteration.  Report the average RMSE across the 10 iterations."
   ]
  },
  {
   "cell_type": "code",
   "execution_count": 166,
   "metadata": {
    "collapsed": false
   },
   "outputs": [
    {
     "name": "stdout",
     "output_type": "stream",
     "text": [
      "NN Model -['CRIM', 'RM']\n",
      "Training cv 0  datasize:  450 \n",
      "Testing cv 0  datasize:  50\n",
      "Time taken: 0.01 seconds\n",
      "RMSE = 4.9112523861 \n",
      "\n",
      "Training cv 1  datasize:  450 \n",
      "Testing cv 1  datasize:  50\n",
      "Time taken: 0.01 seconds\n",
      "RMSE = 4.36080267841 \n",
      "\n",
      "Training cv 2  datasize:  450 \n",
      "Testing cv 2  datasize:  50\n",
      "Time taken: 0.01 seconds\n",
      "RMSE = 4.51590522487 \n",
      "\n",
      "Training cv 3  datasize:  450 \n",
      "Testing cv 3  datasize:  50\n",
      "Time taken: 0.01 seconds\n",
      "RMSE = 5.53721951886 \n",
      "\n",
      "Training cv 4  datasize:  450 \n",
      "Testing cv 4  datasize:  50\n",
      "Time taken: 0.01 seconds\n",
      "RMSE = 5.1989422001 \n",
      "\n",
      "Training cv 5  datasize:  450 \n",
      "Testing cv 5  datasize:  50\n",
      "Time taken: 0.01 seconds\n",
      "RMSE = 4.82709022083 \n",
      "\n",
      "Training cv 6  datasize:  450 \n",
      "Testing cv 6  datasize:  50\n",
      "Time taken: 0.01 seconds\n",
      "RMSE = 5.12427555855 \n",
      "\n",
      "Training cv 7  datasize:  450 \n",
      "Testing cv 7  datasize:  50\n",
      "Time taken: 0.01 seconds\n",
      "RMSE = 12.3006910375 \n",
      "\n",
      "Training cv 8  datasize:  450 \n",
      "Testing cv 8  datasize:  50\n",
      "Time taken: 0.01 seconds\n",
      "RMSE = 9.33779417207 \n",
      "\n",
      "Training cv 9  datasize:  450 \n",
      "Testing cv 9  datasize:  50\n",
      "Time taken: 0.0 seconds\n",
      "RMSE = 13.4408481875 \n",
      "\n",
      "AVERAGE RMSE AFTER CROSS VALIDATION: 6.95548211848\n",
      "TOTAL TIME TAKEN:0.07 seconds\n"
     ]
    }
   ],
   "source": [
    "def cv(bdata_cv_master, predictors, L,model):\n",
    "    start_time = time.time()\n",
    "    \n",
    "    if model == nneighbor:\n",
    "        print('NN Model -' + str(predictors))\n",
    "    else:\n",
    "        print('KNN Model -' + str(predictors) + ' and value of K - ' + str(K))\n",
    "    \n",
    "    ln = len(bdata_cv_master) - (len(bdata_cv_master)%100)\n",
    "    bdata_cv = [None]*10\n",
    "    \n",
    "    # Store train and test cross validation results in array\n",
    "    train_cv = [np.empty(shape=(0, 15))]*10\n",
    "    test_cv = [np.empty(shape=(0, 15))]*10\n",
    "    current = -1\n",
    "    indi_cv = [None]*10\n",
    "    total_cv = 0\n",
    "\n",
    "    # Divide data into 10 folds\n",
    "    for i in range(0,10):\n",
    "        bdata_cv[i] = bdata_cv_master[int(np.floor(ln*(i*0.1))):int(np.floor(ln*(i*0.1+0.1))),:]\n",
    "\n",
    "    # get one fold as test data and use the remaining as train data.\n",
    "    for i in range(0,10):\n",
    "        current += 1\n",
    "        for j in range(0,10):\n",
    "            if(j != current):\n",
    "                train_cv[i] = np.vstack((train_cv[i], bdata_cv[j]))\n",
    "            else:\n",
    "                test_cv[i] = bdata_cv[i]  \n",
    "        \n",
    "        print('Training cv',i,' datasize: ', len(train_cv[i]), '\\n'\n",
    "              'Testing cv',i,' datasize: ', len(test_cv[i]))\n",
    "        # Using the cross validation datasets to fit model of choice and store returning RMSE\n",
    "        indi_cv[i] = model(train_cv[i], test_cv[i], predictors,L)\n",
    "        total_cv = total_cv + indi_cv[i]   \n",
    "        avg_RMSE = total_cv / 10\n",
    "\n",
    "    print('AVERAGE RMSE AFTER CROSS VALIDATION:', avg_RMSE)\n",
    "    print(\"TOTAL TIME TAKEN:\" + str(round(time.time() - start_time,2)) + \" seconds\")\n",
    "    \n",
    "    return avg_RMSE\n",
    "\n",
    "# Preparing and parameters to be fed to the function\n",
    "predictors = ['CRIM','RM']\n",
    "L = 2\n",
    "is_cv = True\n",
    "model = nneighbor\n",
    "\n",
    "\n",
    "# Running the nearest cross validation function and fitting data using nearest neighbor model\n",
    "normalized = normalize(predictors, is_cv)\n",
    "nn_cv = cv(normalized[0], predictors, L, model)"
   ]
  },
  {
   "cell_type": "markdown",
   "metadata": {},
   "source": [
    "###3.6 K-Nearest Neighbors Algorithm\n",
    "\n",
    "Implement the K-Nearest Neighbors algorithm.  Using 10-fold cross validation, report the RMSE for K=3 and the running time of the algorithm."
   ]
  },
  {
   "cell_type": "code",
   "execution_count": 64,
   "metadata": {
    "collapsed": true
   },
   "outputs": [],
   "source": [
    "\"\"\"\n",
    "# write your function specification here!\n",
    "\"\"\"\n",
    "def knn(..., L, K):\n",
    "    # enter your code here\n",
    "    return rmse\n",
    "\n",
    "# enter your additional code here"
   ]
  },
  {
   "cell_type": "markdown",
   "metadata": {},
   "source": [
    "###3.7 Using cross validation to find K\n",
    "\n",
    "What is the best choice of K?  Compute the RMSE for values of K between 1 and 25 using 10-fold cross-validation.  Use the following features in your model, and don't forget to normalize: CRIM, ZN, RM, AGE, DIS, TAX.  Create a graph that shows how RMSE changes as K increases from 1 to 25.  Label your axes, and summarize what you see.  What do you think is a reasonable choice of K for this model?"
   ]
  },
  {
   "cell_type": "code",
   "execution_count": null,
   "metadata": {
    "collapsed": true
   },
   "outputs": [],
   "source": [
    "# enter your code here"
   ]
  },
  {
   "cell_type": "markdown",
   "metadata": {},
   "source": [
    "*Enter your observations here*"
   ]
  }
 ],
 "metadata": {
  "kernelspec": {
   "display_name": "Python 3",
   "language": "python",
   "name": "python3"
  },
  "language_info": {
   "codemirror_mode": {
    "name": "ipython",
    "version": 3
   },
   "file_extension": ".py",
   "mimetype": "text/x-python",
   "name": "python",
   "nbconvert_exporter": "python",
   "pygments_lexer": "ipython3",
   "version": "3.6.0"
  },
  "name": ""
 },
 "nbformat": 4,
 "nbformat_minor": 0
}
